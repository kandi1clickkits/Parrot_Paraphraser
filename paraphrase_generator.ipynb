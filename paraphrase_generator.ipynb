{
 "cells": [
  {
   "cell_type": "markdown",
   "id": "b72459cc",
   "metadata": {},
   "source": [
    "### Paraphrase generator"
   ]
  },
  {
   "cell_type": "code",
   "execution_count": 1,
   "id": "4f7abbe8",
   "metadata": {},
   "outputs": [],
   "source": [
    "from parrot import Parrot\n",
    "import torch\n",
    "import warnings\n",
    "warnings.filterwarnings(\"ignore\")"
   ]
  },
  {
   "cell_type": "markdown",
   "id": "493a0e18",
   "metadata": {},
   "source": [
    "Initialize Parrot class with the pretrained model \"prithivida/parrot_paraphraser_on_T5\" which is available in huggingface. Loading of model might take sometime to complete so please patience. If there are errors during initializing of model then please rerun the below cell."
   ]
  },
  {
   "cell_type": "code",
   "execution_count": 2,
   "id": "0b35fccc",
   "metadata": {
    "scrolled": true
   },
   "outputs": [],
   "source": [
    "parrot = Parrot(model_tag=\"prithivida/parrot_paraphraser_on_T5\",use_gpu=False)"
   ]
  },
  {
   "cell_type": "markdown",
   "id": "9aa36901",
   "metadata": {},
   "source": [
    "The below code snippet will iterate through the phrases and print parapharse sentences for each phrase"
   ]
  },
  {
   "cell_type": "code",
   "execution_count": 3,
   "id": "082c952c",
   "metadata": {},
   "outputs": [],
   "source": [
    "def print_paraphrase_sentences(phrases):\n",
    "    for phrase in phrases:\n",
    "        print(\"-\"*100)\n",
    "        print(\"Input_phrase: \", phrase)\n",
    "        print(\"-\"*100)\n",
    "        para_phrases = parrot.augment(input_phrase=phrase, use_gpu=False)\n",
    "        for para_phrase in para_phrases:\n",
    "            print(para_phrase)"
   ]
  },
  {
   "cell_type": "markdown",
   "id": "7d6d06c7",
   "metadata": {},
   "source": [
    "Provide list of phrases for which you would need paraphrase sentences"
   ]
  },
  {
   "cell_type": "code",
   "execution_count": 4,
   "id": "750e821a",
   "metadata": {},
   "outputs": [
    {
     "name": "stdout",
     "output_type": "stream",
     "text": [
      "----------------------------------------------------------------------------------------------------\n",
      "Input_phrase:  What are the famous places we should not miss in Russia?\n",
      "----------------------------------------------------------------------------------------------------\n"
     ]
    },
    {
     "name": "stderr",
     "output_type": "stream",
     "text": [
      "Asking to truncate to max_length but no maximum length is provided and the model has no predefined maximum length. Default to no truncation.\n"
     ]
    },
    {
     "name": "stdout",
     "output_type": "stream",
     "text": [
      "('recommend some of the most beautiful places in russia?', 41)\n",
      "('what places should we not miss when visiting russia?', 41)\n",
      "('list the best places to visit in russia?', 39)\n",
      "('tell me the best place to visit in russia?', 39)\n",
      "('can you list the top 10 places to visit in russia?', 38)\n",
      "('list some famous places to visit in russia?', 35)\n",
      "('which places should we not miss in russia?', 34)\n",
      "----------------------------------------------------------------------------------------------------\n",
      "Input_phrase:  Can you recommed some upscale restaurants in Newyork?\n",
      "----------------------------------------------------------------------------------------------------\n",
      "('which are the best restaurants in newyork?', 32)\n",
      "('can you recommend a few upscale restaurants in new york city?', 23)\n",
      "('can you recommend some good restaurants in newyork?', 20)\n",
      "('can you recommend some great restaurants in newyork?', 19)\n",
      "('can you recommend some upscale restaurants in new york?', 14)\n",
      "('can you recommend some upscale restaurants in newyork?', 13)\n"
     ]
    }
   ],
   "source": [
    "phrases = [\"What are the famous places we should not miss in Russia?\",\"Can you recommed some upscale restaurants in Newyork?\"]\n",
    "print_paraphrase_sentences(phrases)"
   ]
  },
  {
   "cell_type": "markdown",
   "id": "cd2ea1e2",
   "metadata": {},
   "source": [
    "#### Customization and Tuning ####"
   ]
  },
  {
   "cell_type": "code",
   "execution_count": 5,
   "id": "73344d8a",
   "metadata": {},
   "outputs": [],
   "source": [
    "def custom_paraphrase_sentences(phrases,phrase_diversity=False):\n",
    "    for phrase in phrases:\n",
    "        print(\"-\"*100)\n",
    "        print(\"Input_phrase: \", phrase)\n",
    "        print(\"-\"*100)\n",
    "        para_phrases = parrot.augment(input_phrase=phrase,\n",
    "                               use_gpu=False,\n",
    "                               diversity_ranker=\"levenshtein\",\n",
    "                               do_diverse=False, \n",
    "                               max_return_phrases = 10, \n",
    "                               max_length=32, \n",
    "                               adequacy_threshold = 0.70, \n",
    "                               fluency_threshold = 0.60)\n",
    "        for para_phrase in para_phrases:\n",
    "            print(para_phrase)"
   ]
  },
  {
   "cell_type": "markdown",
   "id": "e7c1bb14",
   "metadata": {},
   "source": [
    "#### Getting phrasal diversity/variety in paraphrases"
   ]
  },
  {
   "cell_type": "code",
   "execution_count": 6,
   "id": "369a22e1",
   "metadata": {},
   "outputs": [],
   "source": [
    "diversity_phrases = [\"How are the new Macbook Pros with M1 chips?\"]"
   ]
  },
  {
   "cell_type": "markdown",
   "id": "fd14828a",
   "metadata": {},
   "source": [
    "Without diversity flag set"
   ]
  },
  {
   "cell_type": "code",
   "execution_count": 7,
   "id": "9e3714d4",
   "metadata": {},
   "outputs": [
    {
     "name": "stdout",
     "output_type": "stream",
     "text": [
      "----------------------------------------------------------------------------------------------------\n",
      "Input_phrase:  How are the new Macbook Pros with M1 chips?\n",
      "----------------------------------------------------------------------------------------------------\n",
      "('how is macbook pro 2018 expected to compare with a macbook pro x 2017?', 54)\n",
      "('how do the new macbook pros compare to previous macbook pros with m1 chips?', 36)\n",
      "('show the new intel core i5 and macbook pro 2ghz?', 36)\n",
      "('how is macbook pro 10 running on m1 chips?', 35)\n",
      "('what do you think of the new macbook pros?', 32)\n",
      "('what do you think of new macbooks and the new m1 chips?', 32)\n",
      "('how do new macbook pros feel?', 32)\n",
      "('what does the new macbook pro 64 bit look like?', 28)\n",
      "('what are your experiences with the new macbook pro 2 with m1 chips?', 27)\n"
     ]
    }
   ],
   "source": [
    "custom_paraphrase_sentences(diversity_phrases)"
   ]
  },
  {
   "cell_type": "markdown",
   "id": "318702f7",
   "metadata": {},
   "source": [
    "With diversity flag set"
   ]
  },
  {
   "cell_type": "code",
   "execution_count": 8,
   "id": "2a61678b",
   "metadata": {},
   "outputs": [
    {
     "name": "stdout",
     "output_type": "stream",
     "text": [
      "----------------------------------------------------------------------------------------------------\n",
      "Input_phrase:  How are the new Macbook Pros with M1 chips?\n",
      "----------------------------------------------------------------------------------------------------\n",
      "('show the options for new m1 chips in the new macbook pro?', 45)\n",
      "('can a macbook pro with 8gb of ram be used with m1 chips?', 33)\n",
      "('what are thoughts on the macbook pro 6g pro 2?', 33)\n",
      "('how are new macbook pros?', 30)\n",
      "('how are new macbook pros going to run with m1 chips?', 29)\n",
      "('how is the new macbook pro m1?', 27)\n",
      "('how do you think about the new macbook pro m1 chip?', 26)\n",
      "('how are the new macbook pro 7 processors?', 25)\n",
      "('how do the new macbook pros handle their chips?', 25)\n"
     ]
    }
   ],
   "source": [
    "phrase_diversity = True\n",
    "\n",
    "custom_paraphrase_sentences(diversity_phrases,phrase_diversity)"
   ]
  },
  {
   "cell_type": "markdown",
   "id": "65addeff",
   "metadata": {},
   "source": [
    "#### Interactive shell simulation"
   ]
  },
  {
   "cell_type": "code",
   "execution_count": 9,
   "id": "e8648493",
   "metadata": {},
   "outputs": [
    {
     "name": "stdout",
     "output_type": "stream",
     "text": [
      "Enter a phrase (To quit enter exit): How do I become an astronaut?\n",
      "Do you want phrasal diversity (y or n): n\n",
      "----------------------------------------------------------------------------------------------------\n",
      "Input_phrase:  How do I become an astronaut?\n",
      "----------------------------------------------------------------------------------------------------\n",
      "('how can i become a successful astronaut?', 26)\n",
      "('how can one become an astronaut?', 16)\n",
      "('how should i become an astronaut?', 14)\n",
      "('how do i become an astronaut?', 12)\n",
      "Enter a phrase (To quit enter exit): How do I become an astronaut?\n",
      "Do you want phrasal diversity (y or n): y\n",
      "----------------------------------------------------------------------------------------------------\n",
      "Input_phrase:  How do I become an astronaut?\n",
      "----------------------------------------------------------------------------------------------------\n",
      "('how should a person become an astronaut?', 18)\n",
      "('how do i become a nasa astronaut?', 16)\n",
      "('how can i become an astronaut?', 15)\n",
      "('how do i become an astronaut?', 12)\n",
      "Enter a phrase (To quit enter exit): exit\n"
     ]
    }
   ],
   "source": [
    "while True:\n",
    "    usr_q = input(\"Enter a phrase (To quit enter exit): \")\n",
    "    if usr_q == \"exit\":\n",
    "        break\n",
    "    else:\n",
    "        if usr_q:\n",
    "            phrase_d = input(\"Do you want phrasal diversity (y or n): \")\n",
    "            phrases = [usr_q]\n",
    "            if phrase_d and phrase_d.lower() == \"y\": \n",
    "                custom_paraphrase_sentences(phrases,phrase_diversity=True)\n",
    "            else:\n",
    "                custom_paraphrase_sentences(phrases)"
   ]
  },
  {
   "cell_type": "code",
   "execution_count": null,
   "id": "740ebe56",
   "metadata": {},
   "outputs": [],
   "source": []
  }
 ],
 "metadata": {
  "kernelspec": {
   "display_name": "Python 3 (ipykernel)",
   "language": "python",
   "name": "python3"
  },
  "language_info": {
   "codemirror_mode": {
    "name": "ipython",
    "version": 3
   },
   "file_extension": ".py",
   "mimetype": "text/x-python",
   "name": "python",
   "nbconvert_exporter": "python",
   "pygments_lexer": "ipython3",
   "version": "3.9.7"
  }
 },
 "nbformat": 4,
 "nbformat_minor": 5
}
